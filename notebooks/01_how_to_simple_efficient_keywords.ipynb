{
 "cells": [
  {
   "cell_type": "code",
   "execution_count": null,
   "metadata": {},
   "outputs": [],
   "source": []
  }
 ],
 "metadata": {
  "kernelspec": {
   "display_name": "spacy-nltk",
   "language": "python",
   "name": "python3"
  },
  "language_info": {
   "name": "python",
   "version": "3.9.16"
  },
  "orig_nbformat": 4,
  "vscode": {
   "interpreter": {
    "hash": "fa5b1b4c3cc91232ae79dc3a32d92c3d8a82353095e4cbfad89d88ae138ea6f4"
   }
  }
 },
 "nbformat": 4,
 "nbformat_minor": 2
}
